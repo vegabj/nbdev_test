{
 "cells": [
  {
   "cell_type": "code",
   "execution_count": null,
   "metadata": {},
   "outputs": [],
   "source": [
    "# default_exp core"
   ]
  },
  {
   "cell_type": "markdown",
   "metadata": {},
   "source": [
    "# Core\n",
    "\n",
    "> Core implements the specialized classes Query and Ingest into Azure Data Explorer."
   ]
  },
  {
   "cell_type": "code",
   "execution_count": null,
   "metadata": {},
   "outputs": [],
   "source": [
    "#hide\n",
    "from nbdev.showdoc import *"
   ]
  },
  {
   "cell_type": "code",
   "execution_count": null,
   "metadata": {},
   "outputs": [],
   "source": [
    "import os\n",
    "import pandas as pd\n",
    "from azure.kusto.data.helpers import dataframe_from_result_table\n",
    "from azure.kusto.data import KustoClient, KustoConnectionStringBuilder, ClientRequestProperties"
   ]
  },
  {
   "cell_type": "code",
   "execution_count": null,
   "metadata": {},
   "outputs": [],
   "source": [
    "#export\n",
    "class Query:\n",
    "    def __init__(self, cluster: str=\"<cluster_name>\", db: str=\"<db_name>\", use_secrets: bool=False):\n",
    "        if use_secrets:\n",
    "            self.kcsb = KustoConnectionstringBuilder.with_\n",
    "        else:\n",
    "            self.kcsb = KustoConnectionStringBuilder.with_interactive_login(cluster)\n",
    "        self.db = db\n",
    "        self.client = KustoClient(self.kcsb)\n",
    "    def __repr__(self):\n",
    "        return self.kcsb\n",
    "    def query(self, query_string: str):\n",
    "        return Results(self.client.execute(self.db, query_string))"
   ]
  },
  {
   "cell_type": "code",
   "execution_count": null,
   "metadata": {},
   "outputs": [],
   "source": [
    "#export\n",
    "class Results:\n",
    "    def __init__(self, response_dataset):\n",
    "        self.response_dataset = response_dataset\n",
    "    def __repr__(self):\n",
    "        if self.response_dataset.errors_count > 0:\n",
    "            print(f\"Request got {self.response_dataset.errors_count} errors\")\n",
    "            print(self.response_dataset.get_exceptions())\n",
    "        dfs = [dataframe_from_result_table(res) for res in self.response_dataset.primary_results]\n",
    "        for df in dfs:\n",
    "            print(df)\n",
    "        return \"\"\n",
    "    def get_results(self):\n",
    "        if len(self.response_dataset.primary_results) == 1:\n",
    "            return dataframe_from_result_table(self.response_dataset.primary_results[0])\n",
    "        return [dataframe_from_result_table(res) for res in self.response_dataset.primary_results]"
   ]
  },
  {
   "cell_type": "markdown",
   "metadata": {},
   "source": [
    "### Tests"
   ]
  },
  {
   "cell_type": "code",
   "execution_count": null,
   "metadata": {},
   "outputs": [],
   "source": [
    "assert 1 + 1 == 2"
   ]
  },
  {
   "cell_type": "code",
   "execution_count": null,
   "metadata": {},
   "outputs": [],
   "source": [
    "x = False\n",
    "for key, value in os.environ.items():\n",
    "    if \"test\" in value:\n",
    "        x = True\n",
    "        print(key, value)\n",
    "assert x"
   ]
  },
  {
   "cell_type": "code",
   "execution_count": null,
   "metadata": {},
   "outputs": [],
   "source": [
    "assert os.environ[\"token\"] == \"test\""
   ]
  },
  {
   "cell_type": "code",
   "execution_count": null,
   "metadata": {},
   "outputs": [],
   "source": [
    "#assert os.environ[\"INPUT_MY_SECRET\"] == \"TEST\""
   ]
  },
  {
   "cell_type": "code",
   "execution_count": null,
   "metadata": {},
   "outputs": [],
   "source": [
    "#query = Query(cluster=\"https://help.kusto.windows.net\", db=\"Samples\")\n",
    "#result = query.query(\"StormEvents | take 10\")"
   ]
  },
  {
   "cell_type": "code",
   "execution_count": null,
   "metadata": {},
   "outputs": [],
   "source": [
    "#res = result.get_results()"
   ]
  },
  {
   "cell_type": "code",
   "execution_count": null,
   "metadata": {},
   "outputs": [],
   "source": []
  }
 ],
 "metadata": {
  "kernelspec": {
   "display_name": "Python 3",
   "language": "python",
   "name": "python3"
  }
 },
 "nbformat": 4,
 "nbformat_minor": 2
}
