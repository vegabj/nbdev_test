{
 "cells": [
  {
   "cell_type": "code",
   "execution_count": null,
   "metadata": {},
   "outputs": [],
   "source": [
    "# default_exp core"
   ]
  },
  {
   "cell_type": "markdown",
   "metadata": {},
   "source": [
    "# Core\n",
    "\n",
    "> Core implements the specialized classes Query and Ingest into Azure Data Explorer."
   ]
  },
  {
   "cell_type": "code",
   "execution_count": null,
   "metadata": {},
   "outputs": [],
   "source": [
    "#hide\n",
    "from nbdev.showdoc import *"
   ]
  },
  {
   "cell_type": "code",
   "execution_count": null,
   "metadata": {},
   "outputs": [],
   "source": [
    "import pandas as pd\n",
    "from azure.kusto.data.helpers import dataframe_from_result_table\n",
    "from azure.kusto.data import KustoClient, KustoConnectionStringBuilder, ClientRequestProperties"
   ]
  },
  {
   "cell_type": "code",
   "execution_count": null,
   "metadata": {},
   "outputs": [],
   "source": [
    "#export\n",
    "class Query:\n",
    "    def __init__(self, cluster: str=\"<cluster_name>\", db: str=\"<db_name>\"):\n",
    "        self.kcsb = KustoConnectionStringBuilder(cluster).from_interactive_authentication()\n",
    "        self.db = db\n",
    "        self.client = KustoClient(self.kcsb)\n",
    "    def __repr__(self):\n",
    "        return self.kcsb\n",
    "    def query(query_string: str):\n",
    "        return self.client.execute(self.db, query_string)"
   ]
  },
  {
   "cell_type": "code",
   "execution_count": null,
   "metadata": {},
   "outputs": [],
   "source": [
    "#export\n",
    "class Results:\n",
    "    def __init__(self):\n",
    "        pass\n",
    "    def get_results(self):\n",
    "        pass #do some pretty printing of results"
   ]
  },
  {
   "cell_type": "code",
   "execution_count": null,
   "metadata": {},
   "outputs": [],
   "source": []
  }
 ],
 "metadata": {
  "kernelspec": {
   "display_name": "Python 3",
   "language": "python",
   "name": "python3"
  }
 },
 "nbformat": 4,
 "nbformat_minor": 2
}
